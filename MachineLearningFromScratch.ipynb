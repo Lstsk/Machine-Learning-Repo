{
  "nbformat": 4,
  "nbformat_minor": 0,
  "metadata": {
    "colab": {
      "name": "MachineLearningFromScratch.ipynb",
      "provenance": [],
      "collapsed_sections": [],
      "authorship_tag": "ABX9TyNvHcV2LvNwsevccqgDqfLs",
      "include_colab_link": true
    },
    "kernelspec": {
      "name": "python3",
      "display_name": "Python 3"
    },
    "language_info": {
      "name": "python"
    }
  },
  "cells": [
    {
      "cell_type": "markdown",
      "metadata": {
        "id": "view-in-github",
        "colab_type": "text"
      },
      "source": [
        "<a href=\"https://colab.research.google.com/github/Lstsk/Machine-Learning-Repo/blob/main/MachineLearningFromScratch.ipynb\" target=\"_parent\"><img src=\"https://colab.research.google.com/assets/colab-badge.svg\" alt=\"Open In Colab\"/></a>"
      ]
    },
    {
      "cell_type": "code",
      "execution_count": 16,
      "metadata": {
        "colab": {
          "base_uri": "https://localhost:8080/"
        },
        "id": "Bqz_2Ia-I9Zf",
        "outputId": "3d503260-5502-4e90-cbb6-835711a6df75"
      },
      "outputs": [
        {
          "output_type": "stream",
          "name": "stdout",
          "text": [
            "[[ 0.5031  -1.04185 -2.03875]\n",
            " [ 0.2434  -2.7332  -5.7633 ]\n",
            " [-0.99314  1.41254 -0.35655]]\n"
          ]
        }
      ],
      "source": [
        "import numpy as np\n",
        "\n",
        "inputs = [\n",
        "    [1,2,3,2.5],\n",
        "    [2.0,5.0,-1.0,2.0],\n",
        "    [-1.5,2.7,3.3,-0.8],\n",
        "    ]\n",
        "\n",
        "weights = [[0.2,0.8,-0.5,1.0],[0.5,-0.91,0.26,-0.5],[-0.26,-0.27,0.17,0.87]]\n",
        "\n",
        "biases = [2,3,0.5]\n",
        "\n",
        "\n",
        "weights2 = [[0.1,-0.14,0.5],[-0.5, 0.12,-0.33],[-0.44, 0.73, -0.13]]\n",
        "\n",
        "biases2 = [-1,2,-0.5]\n",
        "\n",
        "\n",
        "'''(1*0.2 + 2*0.8 +3 *-0.5+2.5*1.0) + 2\n",
        "(inputs x weights) + biase\n",
        "'''\n",
        "layer1_ouputs = np.dot(inputs, np.array(weights).T) + biases\n",
        "\n",
        "layer2_ouputs = np.dot(layer1_ouputs, np.array(weights2).T) + biases2\n",
        "\n",
        "print(layer2_ouputs)\n",
        "\n",
        "\n"
      ]
    },
    {
      "cell_type": "code",
      "source": [
        "import numpy as np\n",
        "\n",
        "X = [\n",
        "    [1,2,3,2.5],\n",
        "    [2.0,5.0,-1.0,2.0],\n",
        "    [-1.5,2.7,3.3,-0.8],\n",
        "    ]\n",
        "\n",
        "# define two hidden \n",
        "\n",
        "'''initializing weights -> random value between 1 and -1\n",
        " biases usually initialize as \n",
        "'''\n",
        "np.random.seed(0)\n",
        "\n",
        "class Layer_Desnse:\n",
        "  def __init__(self, n_inputs, n_neurons):\n",
        "    self.weights = 0.10* np.random.randn(n_inputs,n_neurons)\n",
        "    self.biases = np.zeros((1, n_neurons))\n",
        "  def forward(self, inputs):\n",
        "    self.output = np.dot(inputs, self.weights) + self.biases\n",
        "\n",
        "layer1 = Layer_Desnse(4,5)\n",
        "layer2 = Layer_Desnse(5,2)\n",
        "\n",
        "layer1.forward(X)\n",
        "print(layer1.output)\n",
        "# pass layer1 output into layer2\n",
        "layer2.forward(layer1.output)\n",
        "print(layer2.output)\n"
      ],
      "metadata": {
        "colab": {
          "base_uri": "https://localhost:8080/"
        },
        "id": "cn1cs_cZNNma",
        "outputId": "01beb678-2df6-4073-e065-84faec8ed111"
      },
      "execution_count": 24,
      "outputs": [
        {
          "output_type": "stream",
          "name": "stdout",
          "text": [
            "[[ 0.10758131  1.03983522  0.24462411  0.31821498  0.18851053]\n",
            " [-0.08349796  0.70846411  0.00293357  0.44701525  0.36360538]\n",
            " [-0.50763245  0.55688422  0.07987797 -0.34889573  0.04553042]]\n",
            "[[ 0.148296   -0.08397602]\n",
            " [ 0.14100315 -0.01340469]\n",
            " [ 0.20124979 -0.07290616]]\n"
          ]
        }
      ]
    }
  ]
}